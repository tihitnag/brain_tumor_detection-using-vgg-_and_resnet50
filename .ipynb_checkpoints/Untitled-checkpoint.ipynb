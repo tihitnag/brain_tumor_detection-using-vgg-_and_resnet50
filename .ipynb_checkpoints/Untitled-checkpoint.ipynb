{
 "cells": [
  {
   "cell_type": "code",
   "execution_count": null,
   "id": "7ca7e531",
   "metadata": {},
   "outputs": [
    {
     "name": "stdout",
     "output_type": "stream",
     "text": [
      "Requirement already satisfied: opencv-python in c:\\programdata\\anaconda3\\lib\\site-packages (4.9.0.80)\n",
      "Requirement already satisfied: numpy>=1.21.2 in c:\\programdata\\anaconda3\\lib\\site-packages (from opencv-python) (1.24.3)\n"
     ]
    }
   ],
   "source": [
    "!pip install opencv-python\n",
    "!pip  install tensorflow"
   ]
  },
  {
   "cell_type": "code",
   "execution_count": 98,
   "id": "f58a28a7",
   "metadata": {},
   "outputs": [
    {
     "name": "stdout",
     "output_type": "stream",
     "text": [
      "Requirement already satisfied: tree in c:\\programdata\\anaconda3\\lib\\site-packages (0.2.4)\n",
      "Requirement already satisfied: Pillow in c:\\programdata\\anaconda3\\lib\\site-packages (from tree) (9.4.0)\n",
      "Requirement already satisfied: svgwrite in c:\\programdata\\anaconda3\\lib\\site-packages (from tree) (1.4.3)\n",
      "Requirement already satisfied: setuptools in c:\\programdata\\anaconda3\\lib\\site-packages (from tree) (68.0.0)\n",
      "Requirement already satisfied: click in c:\\programdata\\anaconda3\\lib\\site-packages (from tree) (8.0.4)\n",
      "Requirement already satisfied: colorama in c:\\users\\ivar\\appdata\\roaming\\python\\python311\\site-packages (from click->tree) (0.4.6)\n"
     ]
    }
   ],
   "source": [
    "import cv2\n",
    "import os\n",
    "import numpy as np\n",
    "import pandas as pd\n",
    "import glob\n",
    "import matplotlib.pyplot as plt\n",
    "from IPython.display import clear_output\n",
    "!pip install imutils\n",
    "clear_output()\n",
    "!pip install tree\n"
   ]
  },
  {
   "cell_type": "code",
   "execution_count": 99,
   "id": "99b3f1d3",
   "metadata": {},
   "outputs": [
    {
     "name": "stdout",
     "output_type": "stream",
     "text": [
      "Folder PATH listing\n",
      "Volume serial number is 8ECD-ADB7\n",
      "C:.\n",
      "ÃÄÄÄ.ipynb_checkpoints\n",
      "ÃÄÄÄno\n",
      "ÃÄÄÄTEST\n",
      "³   ÃÄÄÄNO\n",
      "³   ÀÄÄÄYES\n",
      "ÃÄÄÄTRAIN\n",
      "³   ÃÄÄÄNO\n",
      "³   ÀÄÄÄYES\n",
      "ÃÄÄÄVAL\n",
      "³   ÃÄÄÄNO\n",
      "³   ÀÄÄÄYES\n",
      "ÀÄÄÄyes\n"
     ]
    }
   ],
   "source": [
    "\n",
    "#!mkdir TRAIN TEST VAL\n",
    "#os.makedirs('TEST/YES')\n",
    "os.makedirs('TEST/NO',exist_ok=True)\n",
    "os.makedirs('VAL/YES',exist_ok=True)\n",
    "os.makedirs('VAL/NO',exist_ok=True)\n",
    "!tree"
   ]
  },
  {
   "cell_type": "code",
   "execution_count": 121,
   "id": "c2a5b0e3",
   "metadata": {},
   "outputs": [],
   "source": [
    "\n",
    "import cv2\n",
    "import os\n",
    "import numpy as np\n",
    "import pandas as pd\n",
    "import seaborn as sns\n",
    "import random\n",
    "import matplotlib.pyplot as plt\n",
    "import tensorflow as tf\n",
    "from sklearn.utils import shuffle\n",
    "import glob\n",
    "from tensorflow.keras.models import Model,Sequential\n",
    "from tensorflow.keras.layers import Input,Conv2D, Dense, Flatten ,Dropout ,MaxPooling2D,BatchNormalization,GlobalAveragePooling2D\n",
    "from tensorflow.keras.utils import to_categorical\n",
    "from sklearn.model_selection import train_test_split\n",
    "from tensorflow.keras.callbacks import EarlyStopping,LearningRateScheduler,ReduceLROnPlateau\n",
    "\n",
    "np.random.seed(42)\n",
    "random.seed(42)\n",
    "tf.random.set_seed(42)\n"
   ]
  },
  {
   "cell_type": "code",
   "execution_count": 122,
   "id": "e38d4989",
   "metadata": {
    "scrolled": true
   },
   "outputs": [],
   "source": [
    "path_No = '/kaggle/input/brain-mri-images-for-brain-tumor-detection/no/*'\n",
    "path_Yes = '/kaggle/input/brain-mri-images-for-brain-tumor-detection/yes/*'\n",
    "\n",
    "tumor = []\n",
    "no_tumor = []\n",
    "random_state = 42\n",
    "\n",
    "for file in glob.iglob(path_Yes):\n",
    "    img = cv2.imread(file)      #Reading the images from the path\n",
    "    img = cv2.cvtColor(img, cv2.COLOR_BGR2RGB)        #Changing the color from BGR to RGB\n",
    "    img = cv2.resize(img, (128, 128)) \n",
    "    tumor.append((img, 1))  # Appending tuple with image and label 1 (indicating presence of tumor)\n",
    "\n",
    "for file in glob.iglob(path_No):\n",
    "    img = cv2.imread(file)\n",
    "    img = cv2.cvtColor(img, cv2.COLOR_BGR2RGB)\n",
    "    img = cv2.resize(img, (128, 128))\n",
    "    no_tumor.append((img, 0))  # Appending tuple with image and label 0 (indicating absence of tumor)\n",
    "\n",
    "# Concatenating the two lists and shuffle the data\n",
    "all_data = tumor + no_tumor\n",
    "\n",
    "\n",
    "# Splitting data and labels\n",
    "data = np.array([item[0] for item in all_data])\n",
    "labels = np.array([item[1] for item in all_data])\n"
   ]
  },
  {
   "cell_type": "code",
   "execution_count": 124,
   "id": "bff86cbd",
   "metadata": {},
   "outputs": [
    {
     "name": "stdout",
     "output_type": "stream",
     "text": [
      "No tumor images loaded.\n",
      "No non-tumor images loaded.\n"
     ]
    },
    {
     "data": {
      "text/plain": [
       "<Figure size 1500x500 with 0 Axes>"
      ]
     },
     "metadata": {},
     "output_type": "display_data"
    }
   ],
   "source": [
    "import matplotlib.pyplot as plt\n",
    "\n",
    "plt.figure(figsize=(15, 5))\n",
    "\n",
    "# Display tumor images with label 'yes'\n",
    "if len(tumor) > 0:\n",
    "    for i in range(min(3, len(tumor))):\n",
    "        plt.subplot(2, 3, i+1)\n",
    "        plt.imshow(tumor[i][0])  \n",
    "        plt.title(\"Tumor: Yes\")  \n",
    "        plt.axis('off')\n",
    "else:\n",
    "    print(\"No tumor images loaded.\")\n",
    "\n",
    "# Display no_tumor images with label 'no'\n",
    "if len(no_tumor) > 0:\n",
    "    for i in range(min(3, len(no_tumor))):\n",
    "        plt.subplot(2, 3, i+4)\n",
    "        plt.imshow(no_tumor[i][0])  \n",
    "        plt.title(\"Tumor: No\")  \n",
    "        plt.axis('off')\n",
    "else:\n",
    "    print(\"No non-tumor images loaded.\")\n",
    "\n",
    "plt.tight_layout()\n",
    "plt.show()\n"
   ]
  },
  {
   "cell_type": "code",
   "execution_count": 128,
   "id": "5e750158",
   "metadata": {},
   "outputs": [
    {
     "name": "stdout",
     "output_type": "stream",
     "text": [
      "Either tumor or no_tumor array is empty.\n"
     ]
    }
   ],
   "source": [
    "path_to_yes = '.data/YES/*.jpeg'\n",
    "path_to_no = '.data/NO/*.jpeg'\n",
    "\n",
    "# Initialize lists to store tumor and non-tumor images\n",
    "tumor = []\n",
    "no_tumor = []\n",
    "\n",
    "# Load tumor images\n",
    "for i in glob.iglob(path_to_yes):\n",
    "    img = cv2.imread(i)\n",
    "    img = cv2.cvtColor(img, cv2.COLOR_BGR2RGB)  # Convert BGR to RGB\n",
    "    img = cv2.resize(img, (128, 128))  # Resize the image to (128, 128)\n",
    "    tumor.append((img, 1))  # Append tuple (image, label=1) to tumor list\n",
    "\n",
    "# Load non-tumor images\n",
    "for i in glob.iglob(path_to_no):\n",
    "    img = cv2.imread(i)\n",
    "    img = cv2.cvtColor(img, cv2.COLOR_BGR2RGB)  # Convert BGR to RGB\n",
    "    img = cv2.resize(img, (128, 128))  # Resize the image to (128, 128)\n",
    "    no_tumor.append((img, 0))  # Append tuple (image, label=0) to no_tumor list\n",
    "\n",
    "# Convert lists to numpy arrays\n",
    "tumor = np.array(tumor)\n",
    "no_tumor = np.array(no_tumor)\n",
    "if tumor.size != 0 and no_tumor.size != 0:\n",
    "    # Concatenate tumor and non-tumor arrays vertically\n",
    "    data_all = np.vstack((tumor, no_tumor))\n",
    "    \n",
    "    # Extract image data and labels\n",
    "    data = np.array([item[0] for item in data_all])\n",
    "    labels = np.array([item[1] for item in data_all])\n",
    "    \n",
    "    # Print shapes of tumor array and concatenated array\n",
    "    print(\"Shape of tumor array:\", tumor.shape)\n",
    "    print(\"Shape of concatenated array:\", data_all.shape)\n",
    "else:\n",
    "    print(\"Either tumor or no_tumor array is empty.\")"
   ]
  },
  {
   "cell_type": "code",
   "execution_count": null,
   "id": "8550b705",
   "metadata": {},
   "outputs": [],
   "source": []
  },
  {
   "cell_type": "code",
   "execution_count": 109,
   "id": "9f200fdb",
   "metadata": {},
   "outputs": [
    {
     "name": "stderr",
     "output_type": "stream",
     "text": [
      "C:\\Users\\Ivar\\AppData\\Local\\Temp\\ipykernel_7060\\2151527550.py:3: DeprecationWarning: listdir: path should be string, bytes, os.PathLike or None, not ndarray\n",
      "  for CLASS in os.listdir(data_all):\n"
     ]
    },
    {
     "ename": "FileNotFoundError",
     "evalue": "[WinError 3] The system cannot find the path specified: array([], dtype=float64)",
     "output_type": "error",
     "traceback": [
      "\u001b[1;31m---------------------------------------------------------------------------\u001b[0m",
      "\u001b[1;31mFileNotFoundError\u001b[0m                         Traceback (most recent call last)",
      "Cell \u001b[1;32mIn[109], line 3\u001b[0m\n\u001b[0;32m      1\u001b[0m \u001b[38;5;66;03m#IMG_PATH = 'https://www.kaggle.com/datasets/masoudnickparvar/brain-tumor-mri-dataset'\u001b[39;00m\n\u001b[0;32m      2\u001b[0m \u001b[38;5;66;03m# split the data by train/val/test\u001b[39;00m\n\u001b[1;32m----> 3\u001b[0m \u001b[38;5;28;01mfor\u001b[39;00m CLASS \u001b[38;5;129;01min\u001b[39;00m \u001b[43mos\u001b[49m\u001b[38;5;241;43m.\u001b[39;49m\u001b[43mlistdir\u001b[49m\u001b[43m(\u001b[49m\u001b[43mdata_all\u001b[49m\u001b[43m)\u001b[49m:\n\u001b[0;32m      4\u001b[0m     \u001b[38;5;28;01mif\u001b[39;00m \u001b[38;5;129;01mnot\u001b[39;00m CLASS\u001b[38;5;241m.\u001b[39mstartswith(\u001b[38;5;124m'\u001b[39m\u001b[38;5;124m.\u001b[39m\u001b[38;5;124m'\u001b[39m):\n\u001b[0;32m      5\u001b[0m         IMG_NUM \u001b[38;5;241m=\u001b[39m \u001b[38;5;28mlen\u001b[39m(os\u001b[38;5;241m.\u001b[39mlistdir(IMG_PATH \u001b[38;5;241m+\u001b[39m CLASS))\n",
      "\u001b[1;31mFileNotFoundError\u001b[0m: [WinError 3] The system cannot find the path specified: array([], dtype=float64)"
     ]
    }
   ],
   "source": [
    "#IMG_PATH = 'https://www.kaggle.com/datasets/masoudnickparvar/brain-tumor-mri-dataset'\n",
    "# split the data by train/val/test\n",
    "for CLASS in os.listdir(data_all):\n",
    "    if not CLASS.startswith('.'):\n",
    "        IMG_NUM = len(os.listdir(IMG_PATH + CLASS))\n",
    "        for (n, FILE_NAME) in enumerate(os.listdir(IMG_PATH + CLASS)):\n",
    "            img = IMG_PATH + CLASS + '/' + FILE_NAME\n",
    "            if n < 5:\n",
    "                shutil.copy(img, 'TEST/' + CLASS.upper() + '/' + FILE_NAME)\n",
    "            elif n < 0.8*IMG_NUM:\n",
    "                shutil.copy(img, 'TRAIN/'+ CLASS.upper() + '/' + FILE_NAME)\n",
    "            else:\n",
    "                shutil.copy(img, 'VAL/'+ CLASS.upper() + '/' + FILE_NAME)"
   ]
  },
  {
   "cell_type": "code",
   "execution_count": 57,
   "id": "2a0d3e32",
   "metadata": {},
   "outputs": [
    {
     "name": "stdout",
     "output_type": "stream",
     "text": [
      "No tumor data available.\n"
     ]
    },
    {
     "name": "stderr",
     "output_type": "stream",
     "text": [
      "C:\\Users\\Ivar\\AppData\\Local\\Temp\\ipykernel_7060\\3767174344.py:3: DeprecationWarning: The truth value of an empty array is ambiguous. Returning False, but in future this will result in an error. Use `array.size > 0` to check that an array is not empty.\n",
      "  if tumor:\n"
     ]
    }
   ],
   "source": [
    "#data visualation\n",
    "plt.figure(figsize=(15,15))\n",
    "for i in range(3):\n",
    "    plt.subplot(2, 3, i+1)\n",
    "    if tumor:\n",
    "    plt.figure(figsize=(15, 15))\n",
    "    for i in range(min(3, len(tumor))):  # Ensure we don't exceed the length of the tumor list\n",
    "        plt.subplot(2, 3, i + 1)\n",
    "        plt.imshow(tumor[i][0])\n",
    "    else:\n",
    "    print(\"No tumor data available.\")  "
   ]
  },
  {
   "cell_type": "code",
   "execution_count": 125,
   "id": "0be41120",
   "metadata": {},
   "outputs": [
    {
     "name": "stdout",
     "output_type": "stream",
     "text": [
      "(0,)\n"
     ]
    }
   ],
   "source": [
    "data = []\n",
    "labels = []\n",
    "\n",
    "for tumor_type in ['yes', 'no']:\n",
    "    for r, d, f in os.walk(f\"../input/brain-mri-images-for-brain-tumor-detection/{tumor_type}\"):\n",
    "        for file in f:\n",
    "            if '.jpg' in file:\n",
    "                \n",
    "                # image path\n",
    "                path = os.path.join(r, file)\n",
    "                \n",
    "                # read the image and resize\n",
    "                img = Image.open(path)\n",
    "                img = img.resize((128,128))\n",
    "                img = np.array(img)\n",
    "                \n",
    "                # if the size of the image is true\n",
    "                if img.shape == (128,128,3):\n",
    "                    data.append(img)\n",
    "                    label = 0 if tumor_type == 'yes' else 1\n",
    "                    labels.append(label)\n",
    "data = np.array(data)\n",
    "print(data.shape)"
   ]
  },
  {
   "cell_type": "code",
   "execution_count": null,
   "id": "0f6d621a",
   "metadata": {},
   "outputs": [],
   "source": []
  }
 ],
 "metadata": {
  "kernelspec": {
   "display_name": "Python 3 (ipykernel)",
   "language": "python",
   "name": "python3"
  },
  "language_info": {
   "codemirror_mode": {
    "name": "ipython",
    "version": 3
   },
   "file_extension": ".py",
   "mimetype": "text/x-python",
   "name": "python",
   "nbconvert_exporter": "python",
   "pygments_lexer": "ipython3",
   "version": "3.11.5"
  }
 },
 "nbformat": 4,
 "nbformat_minor": 5
}
